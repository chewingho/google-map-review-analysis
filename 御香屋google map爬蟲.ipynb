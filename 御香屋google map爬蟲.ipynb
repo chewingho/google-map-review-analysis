{
 "cells": [
  {
   "cell_type": "code",
   "execution_count": 1,
   "metadata": {},
   "outputs": [
    {
     "data": {
      "text/html": [
       "<div>\n",
       "<style scoped>\n",
       "    .dataframe tbody tr th:only-of-type {\n",
       "        vertical-align: middle;\n",
       "    }\n",
       "\n",
       "    .dataframe tbody tr th {\n",
       "        vertical-align: top;\n",
       "    }\n",
       "\n",
       "    .dataframe thead th {\n",
       "        text-align: right;\n",
       "    }\n",
       "</style>\n",
       "<table border=\"1\" class=\"dataframe\">\n",
       "  <thead>\n",
       "    <tr style=\"text-align: right;\">\n",
       "      <th></th>\n",
       "      <th>index</th>\n",
       "      <th>username</th>\n",
       "      <th>time</th>\n",
       "      <th>comment</th>\n",
       "      <th>star</th>\n",
       "    </tr>\n",
       "  </thead>\n",
       "  <tbody>\n",
       "    <tr>\n",
       "      <td>0</td>\n",
       "      <td>0</td>\n",
       "      <td>林冠佑</td>\n",
       "      <td>None</td>\n",
       "      <td>None</td>\n",
       "      <td>5</td>\n",
       "    </tr>\n",
       "    <tr>\n",
       "      <td>1</td>\n",
       "      <td>1</td>\n",
       "      <td>Cian Wun Chen</td>\n",
       "      <td>None</td>\n",
       "      <td>去了三次都公休...\\n是一間很容易公休的飲料店..</td>\n",
       "      <td>4</td>\n",
       "    </tr>\n",
       "    <tr>\n",
       "      <td>2</td>\n",
       "      <td>2</td>\n",
       "      <td>Kiam Hsu</td>\n",
       "      <td>20200807</td>\n",
       "      <td>葡萄柚綠新鮮好喝，不過應該是生意太好我們點了三杯也收了錢結果只給我們一杯，反應後補的兩杯也沒...</td>\n",
       "      <td>2</td>\n",
       "    </tr>\n",
       "    <tr>\n",
       "      <td>3</td>\n",
       "      <td>3</td>\n",
       "      <td>Ling C.</td>\n",
       "      <td>20200807</td>\n",
       "      <td>平常不特別愛喝含糖飲料\\n但他們家的招牌葡萄柚果粒茶 \\n真的是酷暑下的聖品啊！</td>\n",
       "      <td>4</td>\n",
       "    </tr>\n",
       "    <tr>\n",
       "      <td>4</td>\n",
       "      <td>4</td>\n",
       "      <td>陳有德</td>\n",
       "      <td>20200807</td>\n",
       "      <td>None</td>\n",
       "      <td>4</td>\n",
       "    </tr>\n",
       "    <tr>\n",
       "      <td>...</td>\n",
       "      <td>...</td>\n",
       "      <td>...</td>\n",
       "      <td>...</td>\n",
       "      <td>...</td>\n",
       "      <td>...</td>\n",
       "    </tr>\n",
       "    <tr>\n",
       "      <td>3995</td>\n",
       "      <td>5</td>\n",
       "      <td>陳園霖</td>\n",
       "      <td>20160808</td>\n",
       "      <td>None</td>\n",
       "      <td>5</td>\n",
       "    </tr>\n",
       "    <tr>\n",
       "      <td>3996</td>\n",
       "      <td>6</td>\n",
       "      <td>Tzu Lung Chang</td>\n",
       "      <td>20160808</td>\n",
       "      <td>None</td>\n",
       "      <td>3</td>\n",
       "    </tr>\n",
       "    <tr>\n",
       "      <td>3997</td>\n",
       "      <td>7</td>\n",
       "      <td>Richard Wang</td>\n",
       "      <td>20160808</td>\n",
       "      <td>喝過一次還不錯喝~~但是就是貴了點Orz</td>\n",
       "      <td>4</td>\n",
       "    </tr>\n",
       "    <tr>\n",
       "      <td>3998</td>\n",
       "      <td>8</td>\n",
       "      <td>Miffy Li</td>\n",
       "      <td>20160808</td>\n",
       "      <td>飲料調製恰到好處，各種飲料在屏幕上都有介紹其產地及口感，強調農產品皆符合標準，飲用更安心。</td>\n",
       "      <td>4</td>\n",
       "    </tr>\n",
       "    <tr>\n",
       "      <td>3999</td>\n",
       "      <td>9</td>\n",
       "      <td>Chen Tim</td>\n",
       "      <td>20160808</td>\n",
       "      <td>葡萄柚綠茶及冷泡茶都好喝。</td>\n",
       "      <td>5</td>\n",
       "    </tr>\n",
       "  </tbody>\n",
       "</table>\n",
       "<p>4000 rows × 5 columns</p>\n",
       "</div>"
      ],
      "text/plain": [
       "      index        username      time  \\\n",
       "0         0             林冠佑      None   \n",
       "1         1   Cian Wun Chen      None   \n",
       "2         2        Kiam Hsu  20200807   \n",
       "3         3         Ling C.  20200807   \n",
       "4         4             陳有德  20200807   \n",
       "...     ...             ...       ...   \n",
       "3995      5             陳園霖  20160808   \n",
       "3996      6  Tzu Lung Chang  20160808   \n",
       "3997      7    Richard Wang  20160808   \n",
       "3998      8        Miffy Li  20160808   \n",
       "3999      9        Chen Tim  20160808   \n",
       "\n",
       "                                                comment star  \n",
       "0                                                  None    5  \n",
       "1                            去了三次都公休...\\n是一間很容易公休的飲料店..    4  \n",
       "2     葡萄柚綠新鮮好喝，不過應該是生意太好我們點了三杯也收了錢結果只給我們一杯，反應後補的兩杯也沒...    2  \n",
       "3              平常不特別愛喝含糖飲料\\n但他們家的招牌葡萄柚果粒茶 \\n真的是酷暑下的聖品啊！    4  \n",
       "4                                                  None    4  \n",
       "...                                                 ...  ...  \n",
       "3995                                               None    5  \n",
       "3996                                               None    3  \n",
       "3997                               喝過一次還不錯喝~~但是就是貴了點Orz    4  \n",
       "3998      飲料調製恰到好處，各種飲料在屏幕上都有介紹其產地及口感，強調農產品皆符合標準，飲用更安心。    4  \n",
       "3999                                      葡萄柚綠茶及冷泡茶都好喝。    5  \n",
       "\n",
       "[4000 rows x 5 columns]"
      ]
     },
     "execution_count": 1,
     "metadata": {},
     "output_type": "execute_result"
    }
   ],
   "source": [
    "#資料清理與視覺化module\n",
    "from get_actual_date import get_actual_date\n",
    "from get_review import get_review\n",
    "import pandas as pd\n",
    "import os\n",
    "from datetime import datetime\n",
    "\n",
    "df = pd.DataFrame(columns = ['username', 'time', 'comment', 'star']) \n",
    "\n",
    "#取前4000則評論,get_review一次10筆資料\n",
    "total = 4000\n",
    "interval = 10\n",
    "\n",
    "end = int(total/interval)\n",
    "for i in range(0, end):\n",
    "    #篩選最新,由最新到最舊排序\n",
    "    url = \"https://www.google.com.tw/maps/preview/review/listentitiesreviews?authuser=0&hl=zh-TW&gl=tw&pb=!1m2!1y3778120077998007195!2y5946452932430435197!2m2!1i\"+str(i*interval)+\"!2i10!3e2!4m5!3b1!4b1!5b1!6b1!7b1!5m2!1s8VwdX66aJaXdmAW-7bCYDg!7e81\"\n",
    "    df = df.append(get_review(url))\n",
    "df = df.reset_index()\n",
    "df"
   ]
  },
  {
   "cell_type": "code",
   "execution_count": 2,
   "metadata": {},
   "outputs": [],
   "source": [
    "#存檔,下次使用不用再重新爬蟲\n",
    "df.to_csv('review_'+datetime.today().strftime('%Y%m%d')+'.txt', sep='\\t', index=False, encoding='utf-8')"
   ]
  },
  {
   "cell_type": "code",
   "execution_count": 3,
   "metadata": {},
   "outputs": [
    {
     "name": "stdout",
     "output_type": "stream",
     "text": [
      "index has null values: False\n",
      "username has null values: False\n",
      "time has null values: True\n",
      "comment has null values: False\n",
      "star has null values: False\n"
     ]
    }
   ],
   "source": [
    "#檢視每個欄位資料是否有NULL,並檢視該欄位有NULL是否合理\n",
    "for col in list(df):\n",
    "    print(col,'has null values:',df[col].isnull().values.any())"
   ]
  },
  {
   "cell_type": "code",
   "execution_count": 4,
   "metadata": {},
   "outputs": [
    {
     "data": {
      "text/plain": [
       "0       20200808\n",
       "1       20200808\n",
       "2       20200807\n",
       "3       20200807\n",
       "4       20200807\n",
       "          ...   \n",
       "3995    20160808\n",
       "3996    20160808\n",
       "3997    20160808\n",
       "3998    20160808\n",
       "3999    20160808\n",
       "Name: time, Length: 4000, dtype: object"
      ]
     },
     "execution_count": 4,
     "metadata": {},
     "output_type": "execute_result"
    }
   ],
   "source": [
    "#將time是None的資料轉換成當天的日期\n",
    "from datetime import datetime\n",
    "df['time'] = df['time'].replace(to_replace=[None],value=datetime.today().strftime('%Y%m%d'))\n",
    "df['time']"
   ]
  },
  {
   "cell_type": "code",
   "execution_count": 5,
   "metadata": {},
   "outputs": [
    {
     "data": {
      "text/html": [
       "<div>\n",
       "<style scoped>\n",
       "    .dataframe tbody tr th:only-of-type {\n",
       "        vertical-align: middle;\n",
       "    }\n",
       "\n",
       "    .dataframe tbody tr th {\n",
       "        vertical-align: top;\n",
       "    }\n",
       "\n",
       "    .dataframe thead th {\n",
       "        text-align: right;\n",
       "    }\n",
       "</style>\n",
       "<table border=\"1\" class=\"dataframe\">\n",
       "  <thead>\n",
       "    <tr style=\"text-align: right;\">\n",
       "      <th></th>\n",
       "      <th>username</th>\n",
       "      <th>time</th>\n",
       "      <th>yyyy</th>\n",
       "      <th>yyyymm</th>\n",
       "      <th>comment</th>\n",
       "      <th>star</th>\n",
       "    </tr>\n",
       "  </thead>\n",
       "  <tbody>\n",
       "    <tr>\n",
       "      <td>0</td>\n",
       "      <td>林冠佑</td>\n",
       "      <td>20200808</td>\n",
       "      <td>2020</td>\n",
       "      <td>202008</td>\n",
       "      <td>None</td>\n",
       "      <td>5</td>\n",
       "    </tr>\n",
       "    <tr>\n",
       "      <td>1</td>\n",
       "      <td>Cian Wun Chen</td>\n",
       "      <td>20200808</td>\n",
       "      <td>2020</td>\n",
       "      <td>202008</td>\n",
       "      <td>去了三次都公休...\\n是一間很容易公休的飲料店..</td>\n",
       "      <td>4</td>\n",
       "    </tr>\n",
       "    <tr>\n",
       "      <td>2</td>\n",
       "      <td>Kiam Hsu</td>\n",
       "      <td>20200807</td>\n",
       "      <td>2020</td>\n",
       "      <td>202008</td>\n",
       "      <td>葡萄柚綠新鮮好喝，不過應該是生意太好我們點了三杯也收了錢結果只給我們一杯，反應後補的兩杯也沒...</td>\n",
       "      <td>2</td>\n",
       "    </tr>\n",
       "    <tr>\n",
       "      <td>3</td>\n",
       "      <td>Ling C.</td>\n",
       "      <td>20200807</td>\n",
       "      <td>2020</td>\n",
       "      <td>202008</td>\n",
       "      <td>平常不特別愛喝含糖飲料\\n但他們家的招牌葡萄柚果粒茶 \\n真的是酷暑下的聖品啊！</td>\n",
       "      <td>4</td>\n",
       "    </tr>\n",
       "    <tr>\n",
       "      <td>4</td>\n",
       "      <td>陳有德</td>\n",
       "      <td>20200807</td>\n",
       "      <td>2020</td>\n",
       "      <td>202008</td>\n",
       "      <td>None</td>\n",
       "      <td>4</td>\n",
       "    </tr>\n",
       "    <tr>\n",
       "      <td>...</td>\n",
       "      <td>...</td>\n",
       "      <td>...</td>\n",
       "      <td>...</td>\n",
       "      <td>...</td>\n",
       "      <td>...</td>\n",
       "      <td>...</td>\n",
       "    </tr>\n",
       "    <tr>\n",
       "      <td>3995</td>\n",
       "      <td>陳園霖</td>\n",
       "      <td>20160808</td>\n",
       "      <td>2016</td>\n",
       "      <td>201608</td>\n",
       "      <td>None</td>\n",
       "      <td>5</td>\n",
       "    </tr>\n",
       "    <tr>\n",
       "      <td>3996</td>\n",
       "      <td>Tzu Lung Chang</td>\n",
       "      <td>20160808</td>\n",
       "      <td>2016</td>\n",
       "      <td>201608</td>\n",
       "      <td>None</td>\n",
       "      <td>3</td>\n",
       "    </tr>\n",
       "    <tr>\n",
       "      <td>3997</td>\n",
       "      <td>Richard Wang</td>\n",
       "      <td>20160808</td>\n",
       "      <td>2016</td>\n",
       "      <td>201608</td>\n",
       "      <td>喝過一次還不錯喝~~但是就是貴了點Orz</td>\n",
       "      <td>4</td>\n",
       "    </tr>\n",
       "    <tr>\n",
       "      <td>3998</td>\n",
       "      <td>Miffy Li</td>\n",
       "      <td>20160808</td>\n",
       "      <td>2016</td>\n",
       "      <td>201608</td>\n",
       "      <td>飲料調製恰到好處，各種飲料在屏幕上都有介紹其產地及口感，強調農產品皆符合標準，飲用更安心。</td>\n",
       "      <td>4</td>\n",
       "    </tr>\n",
       "    <tr>\n",
       "      <td>3999</td>\n",
       "      <td>Chen Tim</td>\n",
       "      <td>20160808</td>\n",
       "      <td>2016</td>\n",
       "      <td>201608</td>\n",
       "      <td>葡萄柚綠茶及冷泡茶都好喝。</td>\n",
       "      <td>5</td>\n",
       "    </tr>\n",
       "  </tbody>\n",
       "</table>\n",
       "<p>4000 rows × 6 columns</p>\n",
       "</div>"
      ],
      "text/plain": [
       "            username      time  yyyy  yyyymm  \\\n",
       "0                林冠佑  20200808  2020  202008   \n",
       "1      Cian Wun Chen  20200808  2020  202008   \n",
       "2           Kiam Hsu  20200807  2020  202008   \n",
       "3            Ling C.  20200807  2020  202008   \n",
       "4                陳有德  20200807  2020  202008   \n",
       "...              ...       ...   ...     ...   \n",
       "3995             陳園霖  20160808  2016  201608   \n",
       "3996  Tzu Lung Chang  20160808  2016  201608   \n",
       "3997    Richard Wang  20160808  2016  201608   \n",
       "3998        Miffy Li  20160808  2016  201608   \n",
       "3999        Chen Tim  20160808  2016  201608   \n",
       "\n",
       "                                                comment star  \n",
       "0                                                  None    5  \n",
       "1                            去了三次都公休...\\n是一間很容易公休的飲料店..    4  \n",
       "2     葡萄柚綠新鮮好喝，不過應該是生意太好我們點了三杯也收了錢結果只給我們一杯，反應後補的兩杯也沒...    2  \n",
       "3              平常不特別愛喝含糖飲料\\n但他們家的招牌葡萄柚果粒茶 \\n真的是酷暑下的聖品啊！    4  \n",
       "4                                                  None    4  \n",
       "...                                                 ...  ...  \n",
       "3995                                               None    5  \n",
       "3996                                               None    3  \n",
       "3997                               喝過一次還不錯喝~~但是就是貴了點Orz    4  \n",
       "3998      飲料調製恰到好處，各種飲料在屏幕上都有介紹其產地及口感，強調農產品皆符合標準，飲用更安心。    4  \n",
       "3999                                      葡萄柚綠茶及冷泡茶都好喝。    5  \n",
       "\n",
       "[4000 rows x 6 columns]"
      ]
     },
     "execution_count": 5,
     "metadata": {},
     "output_type": "execute_result"
    }
   ],
   "source": [
    "#用yyyymmdd來分析維度太細,將yyyymmdd轉換成yyyy與yyyymm\n",
    "df['yyyy'] = df['time'].str[:4]\n",
    "df['yyyymm'] = df['time'].str[:6]\n",
    "df = df.reset_index()\n",
    "df = df[['username', 'time', 'yyyy', 'yyyymm', 'comment', 'star']]\n",
    "df"
   ]
  },
  {
   "cell_type": "code",
   "execution_count": 8,
   "metadata": {},
   "outputs": [
    {
     "data": {
      "text/plain": [
       "<matplotlib.axes._subplots.AxesSubplot at 0x1f05c7ec5c8>"
      ]
     },
     "execution_count": 8,
     "metadata": {},
     "output_type": "execute_result"
    },
    {
     "data": {
      "image/png": "[encoded data removed]",
      "text/plain": [
       "<Figure size 432x288 with 1 Axes>"
      ]
     },
     "metadata": {
      "needs_background": "light"
     },
     "output_type": "display_data"
    }
   ],
   "source": [
    "#檢視4000筆中各star數量\n",
    "pd.value_counts(df['star'].values).sort_index().plot.bar()"
   ]
  },
  {
   "cell_type": "code",
   "execution_count": 7,
   "metadata": {},
   "outputs": [
    {
     "data": {
      "text/plain": [
       "<matplotlib.axes._subplots.AxesSubplot at 0x1f05c764048>"
      ]
     },
     "execution_count": 7,
     "metadata": {},
     "output_type": "execute_result"
    },
    {
     "data": {
      "image/png": "[encoded data removed]",
      "text/plain": [
       "<Figure size 432x288 with 1 Axes>"
      ]
     },
     "metadata": {
      "needs_background": "light"
     },
     "output_type": "display_data"
    }
   ],
   "source": [
    "#各star的comment為None的比例,檢視有評論的比例\n",
    "total_list = []\n",
    "none_list = []\n",
    "not_none_list = []\n",
    "\n",
    "for i in range(1, 6):\n",
    "    df_star = df[pd.to_numeric(df['star']) == i]\n",
    "    total_list.append(df_star['star'].count())\n",
    "    df_star['star'][df_star['comment']=='None'].count()\n",
    "    none_list.append(df_star['star'][df_star['comment']=='None'].count())\n",
    "\n",
    "not_none_list = [m - n for m,n in zip(total_list,none_list)]\n",
    "\n",
    "df_comment = pd.DataFrame({'Not none': not_none_list,\n",
    "                   'None': none_list}, index=list(set(df['star'])))\n",
    "df_comment.plot.bar(stacked=True)"
   ]
  },
  {
   "cell_type": "code",
   "execution_count": 9,
   "metadata": {},
   "outputs": [
    {
     "data": {
      "text/plain": [
       "<matplotlib.axes._subplots.AxesSubplot at 0x1f05c88d308>"
      ]
     },
     "execution_count": 9,
     "metadata": {},
     "output_type": "execute_result"
    },
    {
     "data": {
      "image/png": "[encoded data removed]",
      "text/plain": [
       "<Figure size 432x288 with 1 Axes>"
      ]
     },
     "metadata": {
      "needs_background": "light"
     },
     "output_type": "display_data"
    }
   ],
   "source": [
    "#觀察yyyymm的star數量，以yyyymm為x軸，star為y軸\n",
    "import matplotlib.pyplot as plt\n",
    "df.groupby(['yyyymm', 'star']).size().unstack().plot(kind='bar', stacked=True, colormap='Set3')"
   ]
  },
  {
   "cell_type": "code",
   "execution_count": 10,
   "metadata": {},
   "outputs": [
    {
     "data": {
      "text/plain": [
       "<matplotlib.axes._subplots.AxesSubplot at 0x1f05c9ed7c8>"
      ]
     },
     "execution_count": 10,
     "metadata": {},
     "output_type": "execute_result"
    },
    {
     "data": {
      "image/png": "[encoded data removed]",
      "text/plain": [
       "<Figure size 432x288 with 1 Axes>"
      ]
     },
     "metadata": {
      "needs_background": "light"
     },
     "output_type": "display_data"
    }
   ],
   "source": [
    "#因為時間在滿10個月但未2年前皆顯示為1年前,因此應該僅考慮九個月內的\n",
    "#也不應該考慮當月,因為當月資料還不完整\n",
    "df_recent = df[(df['yyyymm']>='201911') & (df['yyyymm']<='202007')]\n",
    "df_recent.groupby(['yyyymm', 'star']).size().unstack().plot(kind='bar', stacked=True, colormap='Set3')"
   ]
  }
 ],
 "metadata": {
  "kernelspec": {
   "display_name": "Python 3",
   "language": "python",
   "name": "python3"
  },
  "language_info": {
   "codemirror_mode": {
    "name": "ipython",
    "version": 3
   },
   "file_extension": ".py",
   "mimetype": "text/x-python",
   "name": "python",
   "nbconvert_exporter": "python",
   "pygments_lexer": "ipython3",
   "version": "3.7.4"
  }
 },
 "nbformat": 4,
 "nbformat_minor": 2
}
