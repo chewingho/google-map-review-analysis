{
 "cells": [
  {
   "cell_type": "code",
   "execution_count": 1,
   "metadata": {},
   "outputs": [],
   "source": [
    "#匯入模組\n",
    "import pandas as pd\n",
    "import os\n",
    "import matplotlib.pyplot as plt"
   ]
  },
  {
   "cell_type": "code",
   "execution_count": 2,
   "metadata": {},
   "outputs": [
    {
     "data": {
      "text/html": [
       "<div>\n",
       "<style scoped>\n",
       "    .dataframe tbody tr th:only-of-type {\n",
       "        vertical-align: middle;\n",
       "    }\n",
       "\n",
       "    .dataframe tbody tr th {\n",
       "        vertical-align: top;\n",
       "    }\n",
       "\n",
       "    .dataframe thead th {\n",
       "        text-align: right;\n",
       "    }\n",
       "</style>\n",
       "<table border=\"1\" class=\"dataframe\">\n",
       "  <thead>\n",
       "    <tr style=\"text-align: right;\">\n",
       "      <th></th>\n",
       "      <th>index</th>\n",
       "      <th>username</th>\n",
       "      <th>time</th>\n",
       "      <th>comment</th>\n",
       "      <th>star</th>\n",
       "    </tr>\n",
       "  </thead>\n",
       "  <tbody>\n",
       "    <tr>\n",
       "      <td>0</td>\n",
       "      <td>0</td>\n",
       "      <td>林冠佑</td>\n",
       "      <td>NaN</td>\n",
       "      <td>None</td>\n",
       "      <td>5</td>\n",
       "    </tr>\n",
       "    <tr>\n",
       "      <td>1</td>\n",
       "      <td>1</td>\n",
       "      <td>Cian Wun Chen</td>\n",
       "      <td>NaN</td>\n",
       "      <td>去了三次都公休...\\n是一間很容易公休的飲料店..</td>\n",
       "      <td>4</td>\n",
       "    </tr>\n",
       "    <tr>\n",
       "      <td>2</td>\n",
       "      <td>2</td>\n",
       "      <td>Kiam Hsu</td>\n",
       "      <td>20200807</td>\n",
       "      <td>葡萄柚綠新鮮好喝，不過應該是生意太好我們點了三杯也收了錢結果只給我們一杯，反應後補的兩杯也沒...</td>\n",
       "      <td>2</td>\n",
       "    </tr>\n",
       "    <tr>\n",
       "      <td>3</td>\n",
       "      <td>3</td>\n",
       "      <td>Ling C.</td>\n",
       "      <td>20200807</td>\n",
       "      <td>平常不特別愛喝含糖飲料\\n但他們家的招牌葡萄柚果粒茶 \\n真的是酷暑下的聖品啊！</td>\n",
       "      <td>4</td>\n",
       "    </tr>\n",
       "    <tr>\n",
       "      <td>4</td>\n",
       "      <td>4</td>\n",
       "      <td>陳有德</td>\n",
       "      <td>20200807</td>\n",
       "      <td>None</td>\n",
       "      <td>4</td>\n",
       "    </tr>\n",
       "    <tr>\n",
       "      <td>...</td>\n",
       "      <td>...</td>\n",
       "      <td>...</td>\n",
       "      <td>...</td>\n",
       "      <td>...</td>\n",
       "      <td>...</td>\n",
       "    </tr>\n",
       "    <tr>\n",
       "      <td>3995</td>\n",
       "      <td>5</td>\n",
       "      <td>陳園霖</td>\n",
       "      <td>20160808</td>\n",
       "      <td>None</td>\n",
       "      <td>5</td>\n",
       "    </tr>\n",
       "    <tr>\n",
       "      <td>3996</td>\n",
       "      <td>6</td>\n",
       "      <td>Tzu Lung Chang</td>\n",
       "      <td>20160808</td>\n",
       "      <td>None</td>\n",
       "      <td>3</td>\n",
       "    </tr>\n",
       "    <tr>\n",
       "      <td>3997</td>\n",
       "      <td>7</td>\n",
       "      <td>Richard Wang</td>\n",
       "      <td>20160808</td>\n",
       "      <td>喝過一次還不錯喝~~但是就是貴了點Orz</td>\n",
       "      <td>4</td>\n",
       "    </tr>\n",
       "    <tr>\n",
       "      <td>3998</td>\n",
       "      <td>8</td>\n",
       "      <td>Miffy Li</td>\n",
       "      <td>20160808</td>\n",
       "      <td>飲料調製恰到好處，各種飲料在屏幕上都有介紹其產地及口感，強調農產品皆符合標準，飲用更安心。</td>\n",
       "      <td>4</td>\n",
       "    </tr>\n",
       "    <tr>\n",
       "      <td>3999</td>\n",
       "      <td>9</td>\n",
       "      <td>Chen Tim</td>\n",
       "      <td>20160808</td>\n",
       "      <td>葡萄柚綠茶及冷泡茶都好喝。</td>\n",
       "      <td>5</td>\n",
       "    </tr>\n",
       "  </tbody>\n",
       "</table>\n",
       "<p>4000 rows × 5 columns</p>\n",
       "</div>"
      ],
      "text/plain": [
       "     index        username      time  \\\n",
       "0        0             林冠佑       NaN   \n",
       "1        1   Cian Wun Chen       NaN   \n",
       "2        2        Kiam Hsu  20200807   \n",
       "3        3         Ling C.  20200807   \n",
       "4        4             陳有德  20200807   \n",
       "...    ...             ...       ...   \n",
       "3995     5             陳園霖  20160808   \n",
       "3996     6  Tzu Lung Chang  20160808   \n",
       "3997     7    Richard Wang  20160808   \n",
       "3998     8        Miffy Li  20160808   \n",
       "3999     9        Chen Tim  20160808   \n",
       "\n",
       "                                                comment star  \n",
       "0                                                  None    5  \n",
       "1                            去了三次都公休...\\n是一間很容易公休的飲料店..    4  \n",
       "2     葡萄柚綠新鮮好喝，不過應該是生意太好我們點了三杯也收了錢結果只給我們一杯，反應後補的兩杯也沒...    2  \n",
       "3              平常不特別愛喝含糖飲料\\n但他們家的招牌葡萄柚果粒茶 \\n真的是酷暑下的聖品啊！    4  \n",
       "4                                                  None    4  \n",
       "...                                                 ...  ...  \n",
       "3995                                               None    5  \n",
       "3996                                               None    3  \n",
       "3997                               喝過一次還不錯喝~~但是就是貴了點Orz    4  \n",
       "3998      飲料調製恰到好處，各種飲料在屏幕上都有介紹其產地及口感，強調農產品皆符合標準，飲用更安心。    4  \n",
       "3999                                      葡萄柚綠茶及冷泡茶都好喝。    5  \n",
       "\n",
       "[4000 rows x 5 columns]"
      ]
     },
     "execution_count": 2,
     "metadata": {},
     "output_type": "execute_result"
    }
   ],
   "source": [
    "#匯入20200808爬蟲資料\n",
    "parse_dates = ['time']\n",
    "df = pd.read_csv('C:\\\\Users\\\\caac1\\\\Desktop\\\\中文分析\\\\御香屋\\\\review_20200808.txt', sep='\\t', header=0, dtype=str)\n",
    "df"
   ]
  },
  {
   "cell_type": "code",
   "execution_count": 3,
   "metadata": {},
   "outputs": [
    {
     "name": "stdout",
     "output_type": "stream",
     "text": [
      "time has NULL values: True\n",
      "comment has 'None' string: True\n"
     ]
    }
   ],
   "source": [
    "#檢視每個欄位資料是否有NULL、NoneType、None字串,若有以上狀況需檢視是否合理或不合理要進行處理\n",
    "for col in list(df):\n",
    "    if df[col].isnull().values.any() == True:\n",
    "        print(col,'has NULL values:',df[col].isnull().values.any())\n",
    "    if (df[col].values.any() is None) == True:\n",
    "        print(col,'has NoneType:',df[col].values.any() is None)\n",
    "    if (df[col].values.any() == 'None') == True:\n",
    "        print(col,'has \\'None\\' string:',df[col].values.any() == 'None')"
   ]
  },
  {
   "cell_type": "code",
   "execution_count": 4,
   "metadata": {},
   "outputs": [
    {
     "data": {
      "text/plain": [
       "0       20200808\n",
       "1       20200808\n",
       "2       20200807\n",
       "3       20200807\n",
       "4       20200807\n",
       "          ...   \n",
       "3995    20160808\n",
       "3996    20160808\n",
       "3997    20160808\n",
       "3998    20160808\n",
       "3999    20160808\n",
       "Name: time, Length: 4000, dtype: object"
      ]
     },
     "execution_count": 4,
     "metadata": {},
     "output_type": "execute_result"
    }
   ],
   "source": [
    "#time為NULL不合理,將time是None的資料轉換成當天(20200808)的日期\n",
    "df['time'] = df['time'].replace(to_replace=[None],value='20200808')\n",
    "df['time']"
   ]
  },
  {
   "cell_type": "code",
   "execution_count": 5,
   "metadata": {},
   "outputs": [
    {
     "data": {
      "text/html": [
       "<div>\n",
       "<style scoped>\n",
       "    .dataframe tbody tr th:only-of-type {\n",
       "        vertical-align: middle;\n",
       "    }\n",
       "\n",
       "    .dataframe tbody tr th {\n",
       "        vertical-align: top;\n",
       "    }\n",
       "\n",
       "    .dataframe thead th {\n",
       "        text-align: right;\n",
       "    }\n",
       "</style>\n",
       "<table border=\"1\" class=\"dataframe\">\n",
       "  <thead>\n",
       "    <tr style=\"text-align: right;\">\n",
       "      <th></th>\n",
       "      <th>username</th>\n",
       "      <th>time</th>\n",
       "      <th>yyyy</th>\n",
       "      <th>yyyymm</th>\n",
       "      <th>comment</th>\n",
       "      <th>star</th>\n",
       "    </tr>\n",
       "  </thead>\n",
       "  <tbody>\n",
       "    <tr>\n",
       "      <td>0</td>\n",
       "      <td>林冠佑</td>\n",
       "      <td>20200808</td>\n",
       "      <td>2020</td>\n",
       "      <td>202008</td>\n",
       "      <td>None</td>\n",
       "      <td>5</td>\n",
       "    </tr>\n",
       "    <tr>\n",
       "      <td>1</td>\n",
       "      <td>Cian Wun Chen</td>\n",
       "      <td>20200808</td>\n",
       "      <td>2020</td>\n",
       "      <td>202008</td>\n",
       "      <td>去了三次都公休...\\n是一間很容易公休的飲料店..</td>\n",
       "      <td>4</td>\n",
       "    </tr>\n",
       "    <tr>\n",
       "      <td>2</td>\n",
       "      <td>Kiam Hsu</td>\n",
       "      <td>20200807</td>\n",
       "      <td>2020</td>\n",
       "      <td>202008</td>\n",
       "      <td>葡萄柚綠新鮮好喝，不過應該是生意太好我們點了三杯也收了錢結果只給我們一杯，反應後補的兩杯也沒...</td>\n",
       "      <td>2</td>\n",
       "    </tr>\n",
       "    <tr>\n",
       "      <td>3</td>\n",
       "      <td>Ling C.</td>\n",
       "      <td>20200807</td>\n",
       "      <td>2020</td>\n",
       "      <td>202008</td>\n",
       "      <td>平常不特別愛喝含糖飲料\\n但他們家的招牌葡萄柚果粒茶 \\n真的是酷暑下的聖品啊！</td>\n",
       "      <td>4</td>\n",
       "    </tr>\n",
       "    <tr>\n",
       "      <td>4</td>\n",
       "      <td>陳有德</td>\n",
       "      <td>20200807</td>\n",
       "      <td>2020</td>\n",
       "      <td>202008</td>\n",
       "      <td>None</td>\n",
       "      <td>4</td>\n",
       "    </tr>\n",
       "    <tr>\n",
       "      <td>...</td>\n",
       "      <td>...</td>\n",
       "      <td>...</td>\n",
       "      <td>...</td>\n",
       "      <td>...</td>\n",
       "      <td>...</td>\n",
       "      <td>...</td>\n",
       "    </tr>\n",
       "    <tr>\n",
       "      <td>3995</td>\n",
       "      <td>陳園霖</td>\n",
       "      <td>20160808</td>\n",
       "      <td>2016</td>\n",
       "      <td>201608</td>\n",
       "      <td>None</td>\n",
       "      <td>5</td>\n",
       "    </tr>\n",
       "    <tr>\n",
       "      <td>3996</td>\n",
       "      <td>Tzu Lung Chang</td>\n",
       "      <td>20160808</td>\n",
       "      <td>2016</td>\n",
       "      <td>201608</td>\n",
       "      <td>None</td>\n",
       "      <td>3</td>\n",
       "    </tr>\n",
       "    <tr>\n",
       "      <td>3997</td>\n",
       "      <td>Richard Wang</td>\n",
       "      <td>20160808</td>\n",
       "      <td>2016</td>\n",
       "      <td>201608</td>\n",
       "      <td>喝過一次還不錯喝~~但是就是貴了點Orz</td>\n",
       "      <td>4</td>\n",
       "    </tr>\n",
       "    <tr>\n",
       "      <td>3998</td>\n",
       "      <td>Miffy Li</td>\n",
       "      <td>20160808</td>\n",
       "      <td>2016</td>\n",
       "      <td>201608</td>\n",
       "      <td>飲料調製恰到好處，各種飲料在屏幕上都有介紹其產地及口感，強調農產品皆符合標準，飲用更安心。</td>\n",
       "      <td>4</td>\n",
       "    </tr>\n",
       "    <tr>\n",
       "      <td>3999</td>\n",
       "      <td>Chen Tim</td>\n",
       "      <td>20160808</td>\n",
       "      <td>2016</td>\n",
       "      <td>201608</td>\n",
       "      <td>葡萄柚綠茶及冷泡茶都好喝。</td>\n",
       "      <td>5</td>\n",
       "    </tr>\n",
       "  </tbody>\n",
       "</table>\n",
       "<p>4000 rows × 6 columns</p>\n",
       "</div>"
      ],
      "text/plain": [
       "            username      time  yyyy  yyyymm  \\\n",
       "0                林冠佑  20200808  2020  202008   \n",
       "1      Cian Wun Chen  20200808  2020  202008   \n",
       "2           Kiam Hsu  20200807  2020  202008   \n",
       "3            Ling C.  20200807  2020  202008   \n",
       "4                陳有德  20200807  2020  202008   \n",
       "...              ...       ...   ...     ...   \n",
       "3995             陳園霖  20160808  2016  201608   \n",
       "3996  Tzu Lung Chang  20160808  2016  201608   \n",
       "3997    Richard Wang  20160808  2016  201608   \n",
       "3998        Miffy Li  20160808  2016  201608   \n",
       "3999        Chen Tim  20160808  2016  201608   \n",
       "\n",
       "                                                comment star  \n",
       "0                                                  None    5  \n",
       "1                            去了三次都公休...\\n是一間很容易公休的飲料店..    4  \n",
       "2     葡萄柚綠新鮮好喝，不過應該是生意太好我們點了三杯也收了錢結果只給我們一杯，反應後補的兩杯也沒...    2  \n",
       "3              平常不特別愛喝含糖飲料\\n但他們家的招牌葡萄柚果粒茶 \\n真的是酷暑下的聖品啊！    4  \n",
       "4                                                  None    4  \n",
       "...                                                 ...  ...  \n",
       "3995                                               None    5  \n",
       "3996                                               None    3  \n",
       "3997                               喝過一次還不錯喝~~但是就是貴了點Orz    4  \n",
       "3998      飲料調製恰到好處，各種飲料在屏幕上都有介紹其產地及口感，強調農產品皆符合標準，飲用更安心。    4  \n",
       "3999                                      葡萄柚綠茶及冷泡茶都好喝。    5  \n",
       "\n",
       "[4000 rows x 6 columns]"
      ]
     },
     "execution_count": 5,
     "metadata": {},
     "output_type": "execute_result"
    }
   ],
   "source": [
    "#用yyyymmdd來分析維度太細,將yyyymmdd轉換成yyyy與yyyymm\n",
    "df['yyyy'] = df['time'].str[:4]\n",
    "df['yyyymm'] = df['time'].str[:6]\n",
    "df = df.reset_index()\n",
    "df = df[['username', 'time', 'yyyy', 'yyyymm', 'comment', 'star']]\n",
    "df"
   ]
  },
  {
   "cell_type": "code",
   "execution_count": 6,
   "metadata": {},
   "outputs": [
    {
     "data": {
      "text/plain": [
       "<matplotlib.axes._subplots.AxesSubplot at 0x14b8c0c46c8>"
      ]
     },
     "execution_count": 6,
     "metadata": {},
     "output_type": "execute_result"
    },
    {
     "data": {
      "image/png": "[encoded data removed]",
      "text/plain": [
       "<Figure size 432x288 with 1 Axes>"
      ]
     },
     "metadata": {
      "needs_background": "light"
     },
     "output_type": "display_data"
    }
   ],
   "source": [
    "#檢視4000筆中各star數量\n",
    "pd.value_counts(df['star'].values).sort_index().plot.bar()"
   ]
  },
  {
   "cell_type": "code",
   "execution_count": 7,
   "metadata": {},
   "outputs": [
    {
     "name": "stdout",
     "output_type": "stream",
     "text": [
      "[68, 46, 342, 1174, 2370]\n",
      "[21, 11, 145, 429, 792]\n"
     ]
    },
    {
     "data": {
      "text/plain": [
       "<matplotlib.axes._subplots.AxesSubplot at 0x14b8dd644c8>"
      ]
     },
     "execution_count": 7,
     "metadata": {},
     "output_type": "execute_result"
    },
    {
     "data": {
      "image/png": "[encoded data removed]",
      "text/plain": [
       "<Figure size 432x288 with 1 Axes>"
      ]
     },
     "metadata": {
      "needs_background": "light"
     },
     "output_type": "display_data"
    }
   ],
   "source": [
    "#各star的comment為None的比例,檢視每個star不為None與為None的比例\n",
    "total_list = []\n",
    "none_list = []\n",
    "not_none_list = []\n",
    "\n",
    "for i in range(1, 6):\n",
    "    df_star = df[pd.to_numeric(df['star']) == i]\n",
    "    total_list.append(df_star['star'].count())\n",
    "    none_list.append(df_star['star'][df_star['comment']=='None'].count())\n",
    "\n",
    "not_none_list = [m - n for m,n in zip(total_list,none_list)]\n",
    "\n",
    "print(total_list)\n",
    "print(none_list)\n",
    "\n",
    "df_comment = pd.DataFrame({'Not none': not_none_list,'None': none_list}, index={1, 2, 3, 4, 5})\n",
    "\n",
    "df_comment.plot.bar(stacked=True)"
   ]
  },
  {
   "cell_type": "code",
   "execution_count": 8,
   "metadata": {},
   "outputs": [
    {
     "data": {
      "text/plain": [
       "<matplotlib.axes._subplots.AxesSubplot at 0x14b8dddc208>"
      ]
     },
     "execution_count": 8,
     "metadata": {},
     "output_type": "execute_result"
    },
    {
     "data": {
      "image/png": "[encoded data removed]",
      "text/plain": [
       "<Figure size 432x288 with 1 Axes>"
      ]
     },
     "metadata": {
      "needs_background": "light"
     },
     "output_type": "display_data"
    }
   ],
   "source": [
    "#觀察yyyymm的star數量，以yyyymm為x軸，star為y軸\n",
    "df.groupby(['yyyymm', 'star']).size().unstack().plot(kind='bar', stacked=True, colormap='Set3')"
   ]
  },
  {
   "cell_type": "code",
   "execution_count": 9,
   "metadata": {},
   "outputs": [
    {
     "data": {
      "text/plain": [
       "<matplotlib.axes._subplots.AxesSubplot at 0x14b8df71448>"
      ]
     },
     "execution_count": 9,
     "metadata": {},
     "output_type": "execute_result"
    },
    {
     "data": {
      "image/png": "[encoded data removed]",
      "text/plain": [
       "<Figure size 432x288 with 1 Axes>"
      ]
     },
     "metadata": {
      "needs_background": "light"
     },
     "output_type": "display_data"
    }
   ],
   "source": [
    "#因為時間在滿10個月但未2年前皆顯示為1年前,因此應該僅考慮九個月內的(即201911~202007)\n",
    "#也不應該考慮當月,因為當月資料還不完整\n",
    "df_recent = df[(df['yyyymm']>='201911') & (df['yyyymm']<='202007')]\n",
    "df_recent.groupby(['yyyymm', 'star']).size().unstack().plot(kind='bar', stacked=True, colormap='Set3')"
   ]
  }
 ],
 "metadata": {
  "kernelspec": {
   "display_name": "Python 3",
   "language": "python",
   "name": "python3"
  },
  "language_info": {
   "codemirror_mode": {
    "name": "ipython",
    "version": 3
   },
   "file_extension": ".py",
   "mimetype": "text/x-python",
   "name": "python",
   "nbconvert_exporter": "python",
   "pygments_lexer": "ipython3",
   "version": "3.7.4"
  }
 },
 "nbformat": 4,
 "nbformat_minor": 2
}
